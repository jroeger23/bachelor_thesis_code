{
 "cells": [
  {
   "attachments": {},
   "cell_type": "markdown",
   "metadata": {},
   "source": [
    "# Setup imports and loader"
   ]
  },
  {
   "cell_type": "code",
   "execution_count": 2,
   "metadata": {},
   "outputs": [],
   "source": [
    "import matplotlib.pyplot as plt\n",
    "import incense\n",
    "from common.helper.config import parseMongoConfig\n",
    "\n",
    "loader = incense.ExperimentLoader(**parseMongoConfig('../config.ini', adapt='IncenseExperimentLoader'))"
   ]
  },
  {
   "attachments": {},
   "cell_type": "markdown",
   "metadata": {},
   "source": [
    "## Find failed Experiments, due to misconfiguration\n",
    "The problem was, that pytorch does not support PerChannel activation quantization."
   ]
  },
  {
   "cell_type": "code",
   "execution_count": 6,
   "metadata": {},
   "outputs": [
    {
     "name": "stdout",
     "output_type": "stream",
     "text": [
      "Found 180 failed Experiments\n",
      "- activation = torch.ao.quantization.PerChannelMinMaxObserver\n",
      "  weight     = torch.ao.quantization.MinMaxObserver\n",
      "    ValueError: only one element tensors can be converted to Python scalars\n",
      "    RuntimeError: The size of tensor a (17) must match the size of tensor b (32) at non-singleton dimension 0\n",
      "- activation = torch.ao.quantization.PerChannelMinMaxObserver\n",
      "  weight     = torch.ao.quantization.PerChannelMinMaxObserver\n",
      "    ValueError: only one element tensors can be converted to Python scalars\n",
      "    RuntimeError: The size of tensor a (17) must match the size of tensor b (32) at non-singleton dimension 0\n",
      "- activation = torch.ao.quantization.MovingAveragePerChannelMinMaxObserver\n",
      "  weight     = torch.ao.quantization.MinMaxObserver\n",
      "    ValueError: only one element tensors can be converted to Python scalars\n",
      "    RuntimeError: The size of tensor a (17) must match the size of tensor b (32) at non-singleton dimension 0\n",
      "- activation = torch.ao.quantization.MovingAveragePerChannelMinMaxObserver\n",
      "  weight     = torch.ao.quantization.PerChannelMinMaxObserver\n",
      "    ValueError: only one element tensors can be converted to Python scalars\n",
      "    RuntimeError: The size of tensor a (17) must match the size of tensor b (32) at non-singleton dimension 0\n"
     ]
    }
   ],
   "source": [
    "from collections import defaultdict\n",
    "\n",
    "\n",
    "failed_query = {\n",
    "    '$and': [\n",
    "        {\n",
    "            'experiment.name': 'PTSQ_CNN-IMU_LARa'\n",
    "        },\n",
    "        {\n",
    "            'status': 'FAILED'\n",
    "        },\n",
    "        {\n",
    "            '_id': {'$gte': 240}\n",
    "        },\n",
    "    ]\n",
    "}\n",
    "failed_experiments = loader.find(failed_query)\n",
    "\n",
    "print(f'Found {len(failed_experiments)} failed Experiments')\n",
    "\n",
    "exs_by_relevant_config_tuples = defaultdict(list)\n",
    "for ex in failed_experiments:\n",
    "  cfg = ex.to_dict()['config']\n",
    "  exs_by_relevant_config_tuples[(cfg['activation_observer'], cfg['weight_observer'])].append(ex)\n",
    "\n",
    "for (activation, weight), exs in exs_by_relevant_config_tuples.items():\n",
    "  print(f'- activation = {activation}')\n",
    "  print(f'  weight     = {weight}')\n",
    "  for trace in set([ex.to_dict()[\"fail_trace\"][-1] for ex in exs]):\n",
    "    print(f'    {trace}',end='')"
   ]
  },
  {
   "attachments": {},
   "cell_type": "markdown",
   "metadata": {},
   "source": [
    "## Confirm by checking all `COMPLETED` experiments\n",
    "Exactly all PerTensor activation observers succeeded"
   ]
  },
  {
   "cell_type": "code",
   "execution_count": 22,
   "metadata": {},
   "outputs": [
    {
     "name": "stdout",
     "output_type": "stream",
     "text": [
      "There are 270 completed experiments\n",
      "Distinct observer combinations:\n",
      "- activation = torch.ao.quantization.MovingAverageMinMaxObserver\n",
      "  weight     = torch.ao.quantization.PerChannelMinMaxObserver\n",
      "- activation = torch.ao.quantization.MovingAverageMinMaxObserver\n",
      "  weight     = torch.ao.quantization.MinMaxObserver\n",
      "- activation = torch.ao.quantization.MinMaxObserver\n",
      "  weight     = torch.ao.quantization.PerChannelMinMaxObserver\n",
      "- activation = torch.ao.quantization.MinMaxObserver\n",
      "  weight     = torch.ao.quantization.MinMaxObserver\n",
      "- activation = torch.ao.quantization.HistogramObserver\n",
      "  weight     = torch.ao.quantization.PerChannelMinMaxObserver\n",
      "- activation = torch.ao.quantization.HistogramObserver\n",
      "  weight     = torch.ao.quantization.MinMaxObserver\n"
     ]
    }
   ],
   "source": [
    "completed_query = {\n",
    "    '$and': [\n",
    "        {\n",
    "            'experiment.name': 'PTSQ_CNN-IMU_LARa'\n",
    "        },\n",
    "        {\n",
    "            'status': 'COMPLETED'\n",
    "        },\n",
    "        {\n",
    "            '_id': {\n",
    "                '$gte': 241\n",
    "            }\n",
    "        },\n",
    "    ]\n",
    "}\n",
    "completed_experiments = loader.find(completed_query)\n",
    "print(f'There are {len(completed_experiments)} completed experiments')\n",
    "observer_cfgs = [(e.to_dict()['config']['activation_observer'],\n",
    "                  e.to_dict()['config']['weight_observer']) for e in completed_experiments]\n",
    "\n",
    "print('Distinct observer combinations:')\n",
    "for act, wgt in set(observer_cfgs):\n",
    "  print(f'- activation = {act}')\n",
    "  print(f'  weight     = {wgt}')\n"
   ]
  }
 ],
 "metadata": {
  "kernelspec": {
   "display_name": "venv",
   "language": "python",
   "name": "python3"
  },
  "language_info": {
   "codemirror_mode": {
    "name": "ipython",
    "version": 3
   },
   "file_extension": ".py",
   "mimetype": "text/x-python",
   "name": "python",
   "nbconvert_exporter": "python",
   "pygments_lexer": "ipython3",
   "version": "3.9.2"
  },
  "orig_nbformat": 4,
  "vscode": {
   "interpreter": {
    "hash": "7f892abcc9b2c7088de4ae155449e0fa49049dd828863f804fedcab264e3744a"
   }
  }
 },
 "nbformat": 4,
 "nbformat_minor": 2
}
