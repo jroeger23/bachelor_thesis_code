{
 "cells": [
  {
   "attachments": {},
   "cell_type": "markdown",
   "metadata": {},
   "source": [
    "# Setup imports and loader"
   ]
  },
  {
   "cell_type": "code",
   "execution_count": 1,
   "metadata": {},
   "outputs": [
    {
     "name": "stderr",
     "output_type": "stream",
     "text": [
      "/home/jroeger/data/venv/lib/python3.9/site-packages/tqdm/auto.py:22: TqdmWarning: IProgress not found. Please update jupyter and ipywidgets. See https://ipywidgets.readthedocs.io/en/stable/user_install.html\n",
      "  from .autonotebook import tqdm as notebook_tqdm\n"
     ]
    }
   ],
   "source": [
    "import matplotlib.pyplot as plt\n",
    "import incense\n",
    "from common.helper.config import parseMongoConfig\n",
    "\n",
    "loader = incense.ExperimentLoader(**parseMongoConfig('../config.ini', adapt='IncenseExperimentLoader'))"
   ]
  },
  {
   "attachments": {},
   "cell_type": "markdown",
   "metadata": {},
   "source": [
    "## Find failed Experiments, due to misconfiguration\n",
    "The problem was, that pytorch does not support PerChannel activation quantization."
   ]
  },
  {
   "cell_type": "code",
   "execution_count": 2,
   "metadata": {},
   "outputs": [
    {
     "name": "stdout",
     "output_type": "stream",
     "text": [
      "Found 180 failed Experiments\n",
      "- activation = torch.ao.quantization.PerChannelMinMaxObserver\n",
      "  weight     = torch.ao.quantization.MinMaxObserver\n",
      "    RuntimeError: The size of tensor a (17) must match the size of tensor b (32) at non-singleton dimension 0\n",
      "    ValueError: only one element tensors can be converted to Python scalars\n",
      "- activation = torch.ao.quantization.PerChannelMinMaxObserver\n",
      "  weight     = torch.ao.quantization.PerChannelMinMaxObserver\n",
      "    RuntimeError: The size of tensor a (17) must match the size of tensor b (32) at non-singleton dimension 0\n",
      "    ValueError: only one element tensors can be converted to Python scalars\n",
      "- activation = torch.ao.quantization.MovingAveragePerChannelMinMaxObserver\n",
      "  weight     = torch.ao.quantization.MinMaxObserver\n",
      "    RuntimeError: The size of tensor a (17) must match the size of tensor b (32) at non-singleton dimension 0\n",
      "    ValueError: only one element tensors can be converted to Python scalars\n",
      "- activation = torch.ao.quantization.MovingAveragePerChannelMinMaxObserver\n",
      "  weight     = torch.ao.quantization.PerChannelMinMaxObserver\n",
      "    RuntimeError: The size of tensor a (17) must match the size of tensor b (32) at non-singleton dimension 0\n",
      "    ValueError: only one element tensors can be converted to Python scalars\n"
     ]
    }
   ],
   "source": [
    "from collections import defaultdict\n",
    "\n",
    "\n",
    "failed_query = {\n",
    "    '$and': [\n",
    "        {\n",
    "            'experiment.name': 'PTSQ_CNN-IMU_LARa'\n",
    "        },\n",
    "        {\n",
    "            'status': 'FAILED'\n",
    "        },\n",
    "        {\n",
    "            '_id': {'$gte': 240}\n",
    "        },\n",
    "    ]\n",
    "}\n",
    "failed_experiments = loader.find(failed_query)\n",
    "\n",
    "print(f'Found {len(failed_experiments)} failed Experiments')\n",
    "\n",
    "exs_by_relevant_config_tuples = defaultdict(list)\n",
    "for ex in failed_experiments:\n",
    "  cfg = ex.to_dict()['config']\n",
    "  exs_by_relevant_config_tuples[(cfg['activation_observer'], cfg['weight_observer'])].append(ex)\n",
    "\n",
    "for (activation, weight), exs in exs_by_relevant_config_tuples.items():\n",
    "  print(f'- activation = {activation}')\n",
    "  print(f'  weight     = {weight}')\n",
    "  for trace in set([ex.to_dict()[\"fail_trace\"][-1] for ex in exs]):\n",
    "    print(f'    {trace}',end='')"
   ]
  },
  {
   "attachments": {},
   "cell_type": "markdown",
   "metadata": {},
   "source": [
    "## Confirm by checking all `COMPLETED` experiments\n",
    "Exactly all PerTensor activation observers succeeded"
   ]
  },
  {
   "cell_type": "code",
   "execution_count": 3,
   "metadata": {},
   "outputs": [
    {
     "name": "stdout",
     "output_type": "stream",
     "text": [
      "There are 270 completed experiments\n",
      "Distinct observer combinations:\n",
      "- activation = torch.ao.quantization.HistogramObserver\n",
      "  weight     = torch.ao.quantization.MinMaxObserver\n",
      "- activation = torch.ao.quantization.HistogramObserver\n",
      "  weight     = torch.ao.quantization.PerChannelMinMaxObserver\n",
      "- activation = torch.ao.quantization.MovingAverageMinMaxObserver\n",
      "  weight     = torch.ao.quantization.PerChannelMinMaxObserver\n",
      "- activation = torch.ao.quantization.MinMaxObserver\n",
      "  weight     = torch.ao.quantization.MinMaxObserver\n",
      "- activation = torch.ao.quantization.MinMaxObserver\n",
      "  weight     = torch.ao.quantization.PerChannelMinMaxObserver\n",
      "- activation = torch.ao.quantization.MovingAverageMinMaxObserver\n",
      "  weight     = torch.ao.quantization.MinMaxObserver\n"
     ]
    }
   ],
   "source": [
    "completed_query = {\n",
    "    '$and': [\n",
    "        {\n",
    "            'experiment.name': 'PTSQ_CNN-IMU_LARa'\n",
    "        },\n",
    "        {\n",
    "            'status': 'COMPLETED'\n",
    "        },\n",
    "        {\n",
    "            '_id': {\n",
    "                '$gte': 241\n",
    "            }\n",
    "        },\n",
    "    ]\n",
    "}\n",
    "completed_experiments = loader.find(completed_query)\n",
    "print(f'There are {len(completed_experiments)} completed experiments')\n",
    "observer_cfgs = [(e.to_dict()['config']['activation_observer'],\n",
    "                  e.to_dict()['config']['weight_observer']) for e in completed_experiments]\n",
    "\n",
    "print('Distinct observer combinations:')\n",
    "for act, wgt in set(observer_cfgs):\n",
    "  print(f'- activation = {act}')\n",
    "  print(f'  weight     = {wgt}')\n"
   ]
  },
  {
   "attachments": {},
   "cell_type": "markdown",
   "metadata": {},
   "source": [
    "# Best Quantization Results"
   ]
  },
  {
   "cell_type": "code",
   "execution_count": 4,
   "metadata": {},
   "outputs": [
    {
     "name": "stdout",
     "output_type": "stream",
     "text": [
      "Best WF1 Scrore has Experiment 296\n",
      "  Accuracy: 0.7567296624183655\n",
      "  WF1:      0.7431341409683228\n",
      "  Loss:     0.6652039885520935\n",
      "Config: {'weight_observer': 'torch.ao.quantization.MinMaxObserver', 'seed': 83224074, 'weight_observer_args': {'quant_min': -64, 'quant_max': 63, 'qscheme': {'_global_name': 'torch.per_tensor_affine', 'py/object': 'common.helper.qconfig_factory.GlobalPlaceholder', '_kwargs': {}}, 'dtype': {'_global_name': 'torch.qint8', 'py/object': 'common.helper.qconfig_factory.GlobalPlaceholder', '_kwargs': {}}}, 'activation_qscheme': 'torch.per_tensor_affine', 'weight_range': 'full', 'activation_observer_args': {'quant_min': 0, 'quant_max': 127, 'qscheme': {'_global_name': 'torch.per_tensor_affine', 'py/object': 'common.helper.qconfig_factory.GlobalPlaceholder', '_kwargs': {}}, 'dtype': {'_global_name': 'torch.quint8', 'py/object': 'common.helper.qconfig_factory.GlobalPlaceholder', '_kwargs': {}}}, 'trained_model_run_id': 225, 'batch_size': 32, 'weight_qscheme': 'torch.per_tensor_affine', 'backend': 'fbgemm', 'limit_calibration_set': 0.1, 'activation_observer': 'torch.ao.quantization.MovingAverageMinMaxObserver', 'n_bits': 7}\n"
     ]
    }
   ],
   "source": [
    "best_wf1 = max(completed_experiments, key=lambda e: e.metrics['test/wf1'].max())\n",
    "\n",
    "print(f'Best WF1 Scrore has Experiment {best_wf1.id}')\n",
    "print(f'  Accuracy: {best_wf1.metrics[\"test/acc\"].item()}')\n",
    "print(f'  WF1:      {best_wf1.metrics[\"test/wf1\"].item()}')\n",
    "print(f'  Loss:     {best_wf1.metrics[\"test/loss\"].mean()}')\n",
    "print(f'Config: {best_wf1.to_dict()[\"config\"]}')"
   ]
  },
  {
   "attachments": {},
   "cell_type": "markdown",
   "metadata": {},
   "source": [
    "# Best Quantization Results per Quantization Bitwidth"
   ]
  },
  {
   "cell_type": "code",
   "execution_count": 5,
   "metadata": {},
   "outputs": [
    {
     "data": {
      "image/png": "[encoded data removed]",
      "text/plain": [
       "<Figure size 640x480 with 1 Axes>"
      ]
     },
     "metadata": {},
     "output_type": "display_data"
    }
   ],
   "source": [
    "import matplotlib.pyplot as plt\n",
    "\n",
    "experiments_by_bits = defaultdict(list)\n",
    "for e in completed_experiments:\n",
    "  experiments_by_bits[e.to_dict()['config']['n_bits']].append(e)\n",
    "\n",
    "best_wf1_by_bits = {\n",
    "    bits: max(exs, key=lambda e: e.metrics['test/wf1'].item())\n",
    "    for bits, exs in experiments_by_bits.items()\n",
    "}\n",
    "base_experiments = loader.find_by_ids([e.to_dict()['config']['trained_model_run_id'] for e in best_wf1_by_bits.values()])\n",
    "assert len(set(base_experiments)) == 1\n",
    "base_experiment = base_experiments[0]\n",
    "\n",
    "cmap=plt.colormaps.get('tab10')\n",
    "fig, ax = plt.subplots()\n",
    "ax.axhline(y=base_experiment.metrics['test/wf1'].max()*100, color=cmap(1), label='Real $wF_1$', linestyle='dashed')\n",
    "ax.scatter(x=list(best_wf1_by_bits.keys()), y=[e.metrics['test/wf1'].item()*100 for e in best_wf1_by_bits.values()], color=cmap(1), label='Quant $wF_1$')\n",
    "ax.axhline(y=base_experiment.metrics['test/acc'].max()*100, color=cmap(2), label='Real Accuracy', linestyle='dashed')\n",
    "ax.scatter(x=list(best_wf1_by_bits.keys()), y=[e.metrics['test/acc'].item()*100 for e in best_wf1_by_bits.values()], color=cmap(2), label='Quant Accuracy')\n",
    "ax.grid(True)\n",
    "ax.set_xticks(list(best_wf1_by_bits.keys()))\n",
    "ax.set_xlabel('#Bits')\n",
    "ax.set_ylabel('%')\n",
    "ax.set_title('Best PTSQ Results by Quantized Integer Bitwidth')\n",
    "ax.legend()\n",
    "fig.show()"
   ]
  }
 ],
 "metadata": {
  "kernelspec": {
   "display_name": "venv",
   "language": "python",
   "name": "python3"
  },
  "language_info": {
   "codemirror_mode": {
    "name": "ipython",
    "version": 3
   },
   "file_extension": ".py",
   "mimetype": "text/x-python",
   "name": "python",
   "nbconvert_exporter": "python",
   "pygments_lexer": "ipython3",
   "version": "3.9.2"
  },
  "orig_nbformat": 4,
  "vscode": {
   "interpreter": {
    "hash": "7f892abcc9b2c7088de4ae155449e0fa49049dd828863f804fedcab264e3744a"
   }
  }
 },
 "nbformat": 4,
 "nbformat_minor": 2
}
