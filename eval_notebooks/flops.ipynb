{
 "cells": [
  {
   "cell_type": "code",
   "execution_count": 10,
   "metadata": {},
   "outputs": [],
   "source": [
    "import incense\n",
    "from common.helper.run import checkpointsById\n",
    "from common.helper.config import parseMongoConfig\n",
    "from common.model import CNNIMU\n",
    "from ptflops import get_model_complexity_info\n",
    "import torch\n",
    "import logging\n",
    "import io\n",
    "loader = incense.ExperimentLoader(**parseMongoConfig('../config.ini', adapt='IncenseExperimentLoader'))"
   ]
  },
  {
   "cell_type": "markdown",
   "metadata": {},
   "source": [
    "# Load best Experiments ($wF_1$)"
   ]
  },
  {
   "cell_type": "code",
   "execution_count": 2,
   "metadata": {},
   "outputs": [],
   "source": [
    "queries = {\n",
    "    'opportunity': {\n",
    "        '$and': [\n",
    "            { 'experiment.name': 'CNN-IMU_Opportunity-Locomotion' },\n",
    "            { 'status': 'COMPLETED' },\n",
    "            { 'info.metrics': {'$elemMatch': {'name' : 'test/wf1'}} }\n",
    "        ]\n",
    "    },\n",
    "    'lara': {\n",
    "        '$and': [\n",
    "            { 'experiment.name': 'CNN-IMU_LARa' },\n",
    "            { 'status': 'COMPLETED' },\n",
    "            { '_id': {'$gte' : 215} },\n",
    "            { 'info.metrics': {'$elemMatch': {'name' : 'test/wf1'}} }\n",
    "        ]\n",
    "    },\n",
    "    'pamap2': {\n",
    "        '$and': [\n",
    "            { 'experiment.name': 'CNN-IMU_Pamap2(activity_labels)' },\n",
    "            { 'status': 'COMPLETED' },\n",
    "            { '_id': {'$gte' : 183} },\n",
    "            { 'info.metrics': {'$elemMatch': {'name' : 'test/wf1'}} }\n",
    "        ]\n",
    "    }\n",
    "}\n",
    "experiments = { k: max(loader.find(q), key=lambda e: e.metrics['test/wf1'].max()) for k, q in queries.items()}"
   ]
  },
  {
   "attachments": {},
   "cell_type": "markdown",
   "metadata": {},
   "source": [
    "# Estimate Multiply Accumulate Operations with `ptflops`"
   ]
  },
  {
   "cell_type": "code",
   "execution_count": 18,
   "metadata": {},
   "outputs": [
    {
     "name": "stdout",
     "output_type": "stream",
     "text": [
      "Warning! No positional inputs found for a module, assuming batch size is 1.\n",
      "CNNIMU opportunity     has 15.5 M parameters and needs 147.63 MMac for inference\n",
      "Warning! No positional inputs found for a module, assuming batch size is 1.\n",
      "CNNIMU lara            has 26.2 M parameters and needs 151.18 MMac for inference\n",
      "Warning! No positional inputs found for a module, assuming batch size is 1.\n",
      "CNNIMU pamap2          has 34.07 M parameters and needs 200.87 MMac for inference\n"
     ]
    }
   ],
   "source": [
    "for n, e in experiments.items():\n",
    "  ckpt = checkpointsById(root='../logs/checkpoints', run_id=e.to_dict()['_id'])['best_wf1']\n",
    "\n",
    "  logging.disable(level=logging.INFO)\n",
    "  model = CNNIMU.load_from_checkpoint(ckpt)\n",
    "  logging.disable(level=logging.NOTSET)\n",
    "  model.eval()\n",
    "\n",
    "  def batch_ctor(*_):\n",
    "    return {\n",
    "        'imu_x': [\n",
    "            torch.rand(size=(1, model.hparams['sample_length'], imu_size))\n",
    "            for imu_size in model.hparams['imu_sizes']\n",
    "        ]\n",
    "    }\n",
    "  \n",
    "  macs, params = get_model_complexity_info(model, input_res=(0,), input_constructor=batch_ctor, ost=io.StringIO())\n",
    "\n",
    "  print(f'CNNIMU {n:<15} has {params:<6} parameters and needs {macs:<10} for inference')\n",
    "\n"
   ]
  }
 ],
 "metadata": {
  "kernelspec": {
   "display_name": "venv",
   "language": "python",
   "name": "python3"
  },
  "language_info": {
   "codemirror_mode": {
    "name": "ipython",
    "version": 3
   },
   "file_extension": ".py",
   "mimetype": "text/x-python",
   "name": "python",
   "nbconvert_exporter": "python",
   "pygments_lexer": "ipython3",
   "version": "3.9.2"
  },
  "orig_nbformat": 4,
  "vscode": {
   "interpreter": {
    "hash": "7f892abcc9b2c7088de4ae155449e0fa49049dd828863f804fedcab264e3744a"
   }
  }
 },
 "nbformat": 4,
 "nbformat_minor": 2
}
